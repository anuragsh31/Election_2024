{
 "cells": [
  {
   "cell_type": "code",
   "execution_count": 38,
   "id": "65c7adc8",
   "metadata": {},
   "outputs": [],
   "source": [
    "import pandas as pd\n",
    "import numpy as np\n",
    "import matplotlib.pyplot as plt\n",
    "import seaborn as sns\n"
   ]
  },
  {
   "cell_type": "code",
   "execution_count": 2,
   "id": "05724d73",
   "metadata": {},
   "outputs": [],
   "source": [
    "df=pd.read_csv('election_results_2024.csv')"
   ]
  },
  {
   "cell_type": "code",
   "execution_count": 3,
   "id": "79bfa954",
   "metadata": {},
   "outputs": [
    {
     "data": {
      "text/html": [
       "<div>\n",
       "<style scoped>\n",
       "    .dataframe tbody tr th:only-of-type {\n",
       "        vertical-align: middle;\n",
       "    }\n",
       "\n",
       "    .dataframe tbody tr th {\n",
       "        vertical-align: top;\n",
       "    }\n",
       "\n",
       "    .dataframe thead th {\n",
       "        text-align: right;\n",
       "    }\n",
       "</style>\n",
       "<table border=\"1\" class=\"dataframe\">\n",
       "  <thead>\n",
       "    <tr style=\"text-align: right;\">\n",
       "      <th></th>\n",
       "      <th>Constituency</th>\n",
       "      <th>Const. No.</th>\n",
       "      <th>Leading Candidate</th>\n",
       "      <th>Leading Party</th>\n",
       "      <th>Trailing Candidate</th>\n",
       "      <th>Trailing Party</th>\n",
       "      <th>Margin</th>\n",
       "      <th>Status</th>\n",
       "    </tr>\n",
       "  </thead>\n",
       "  <tbody>\n",
       "    <tr>\n",
       "      <th>0</th>\n",
       "      <td>AJMER</td>\n",
       "      <td>13</td>\n",
       "      <td>BHAGIRATH CHOUDHARY</td>\n",
       "      <td>Bharatiya Janata Party</td>\n",
       "      <td>RAMCHANDRA CHOUDHARY</td>\n",
       "      <td>Indian National Congress</td>\n",
       "      <td>329991</td>\n",
       "      <td>Result Declared</td>\n",
       "    </tr>\n",
       "    <tr>\n",
       "      <th>1</th>\n",
       "      <td>ALWAR</td>\n",
       "      <td>8</td>\n",
       "      <td>BHUPENDER YADAV</td>\n",
       "      <td>Bharatiya Janata Party</td>\n",
       "      <td>LALIT YADAV</td>\n",
       "      <td>Indian National Congress</td>\n",
       "      <td>48282</td>\n",
       "      <td>Result Declared</td>\n",
       "    </tr>\n",
       "    <tr>\n",
       "      <th>2</th>\n",
       "      <td>AMBALA</td>\n",
       "      <td>1</td>\n",
       "      <td>VARUN CHAUDHRY</td>\n",
       "      <td>Indian National Congress</td>\n",
       "      <td>BANTO KATARIA</td>\n",
       "      <td>Bharatiya Janata Party</td>\n",
       "      <td>49036</td>\n",
       "      <td>Result Declared</td>\n",
       "    </tr>\n",
       "    <tr>\n",
       "      <th>3</th>\n",
       "      <td>ANANTNAG-RAJOURI</td>\n",
       "      <td>3</td>\n",
       "      <td>MIAN ALTAF AHMAD</td>\n",
       "      <td>Jammu &amp; Kashmir National Conference</td>\n",
       "      <td>MEHBOOBA MUFTI</td>\n",
       "      <td>Jammu &amp; Kashmir Peoples Democratic Party</td>\n",
       "      <td>281794</td>\n",
       "      <td>Result Declared</td>\n",
       "    </tr>\n",
       "    <tr>\n",
       "      <th>4</th>\n",
       "      <td>ARAKKONAM</td>\n",
       "      <td>7</td>\n",
       "      <td>S JAGATHRATCHAKAN</td>\n",
       "      <td>Dravida Munnetra Kazhagam</td>\n",
       "      <td>L VIJAYAN</td>\n",
       "      <td>All India Anna Dravida Munnetra Kazhagam</td>\n",
       "      <td>306559</td>\n",
       "      <td>Result Declared</td>\n",
       "    </tr>\n",
       "    <tr>\n",
       "      <th>...</th>\n",
       "      <td>...</td>\n",
       "      <td>...</td>\n",
       "      <td>...</td>\n",
       "      <td>...</td>\n",
       "      <td>...</td>\n",
       "      <td>...</td>\n",
       "      <td>...</td>\n",
       "      <td>...</td>\n",
       "    </tr>\n",
       "    <tr>\n",
       "      <th>538</th>\n",
       "      <td>Wardha</td>\n",
       "      <td>8</td>\n",
       "      <td>AMAR SHARADRAO KALE</td>\n",
       "      <td>Nationalist Congress Party – Sharadchandra Pawar</td>\n",
       "      <td>RAMDAS CHANDRABHAN TADAS</td>\n",
       "      <td>Bharatiya Janata Party</td>\n",
       "      <td>81648</td>\n",
       "      <td>Result Declared</td>\n",
       "    </tr>\n",
       "    <tr>\n",
       "      <th>539</th>\n",
       "      <td>Wayanad</td>\n",
       "      <td>4</td>\n",
       "      <td>RAHUL GANDHI</td>\n",
       "      <td>Indian National Congress</td>\n",
       "      <td>ANNIE RAJA</td>\n",
       "      <td>Communist Party of India</td>\n",
       "      <td>364422</td>\n",
       "      <td>Result Declared</td>\n",
       "    </tr>\n",
       "    <tr>\n",
       "      <th>540</th>\n",
       "      <td>West Delhi</td>\n",
       "      <td>6</td>\n",
       "      <td>KAMALJEET SEHRAWAT</td>\n",
       "      <td>Bharatiya Janata Party</td>\n",
       "      <td>MAHABAL MISHRA</td>\n",
       "      <td>Aam Aadmi Party</td>\n",
       "      <td>199013</td>\n",
       "      <td>Result Declared</td>\n",
       "    </tr>\n",
       "    <tr>\n",
       "      <th>541</th>\n",
       "      <td>Yavatmal- Washim</td>\n",
       "      <td>14</td>\n",
       "      <td>SANJAY UTTAMRAO DESHMUKH</td>\n",
       "      <td>Shiv Sena (Uddhav Balasaheb Thackrey)</td>\n",
       "      <td>RAJSHRITAI HEMANT PATIL (MAHALLE)</td>\n",
       "      <td>Shiv Sena</td>\n",
       "      <td>94473</td>\n",
       "      <td>Result Declared</td>\n",
       "    </tr>\n",
       "    <tr>\n",
       "      <th>542</th>\n",
       "      <td>Zahirabad</td>\n",
       "      <td>5</td>\n",
       "      <td>SURESH KUMAR SHETKAR</td>\n",
       "      <td>Indian National Congress</td>\n",
       "      <td>B. B. PATIL</td>\n",
       "      <td>Bharatiya Janata Party</td>\n",
       "      <td>46188</td>\n",
       "      <td>Result Declared</td>\n",
       "    </tr>\n",
       "  </tbody>\n",
       "</table>\n",
       "<p>543 rows × 8 columns</p>\n",
       "</div>"
      ],
      "text/plain": [
       "         Constituency  Const. No.         Leading Candidate  \\\n",
       "0               AJMER          13       BHAGIRATH CHOUDHARY   \n",
       "1               ALWAR           8           BHUPENDER YADAV   \n",
       "2              AMBALA           1            VARUN CHAUDHRY   \n",
       "3    ANANTNAG-RAJOURI           3          MIAN ALTAF AHMAD   \n",
       "4           ARAKKONAM           7         S JAGATHRATCHAKAN   \n",
       "..                ...         ...                       ...   \n",
       "538            Wardha           8       AMAR SHARADRAO KALE   \n",
       "539           Wayanad           4              RAHUL GANDHI   \n",
       "540        West Delhi           6        KAMALJEET SEHRAWAT   \n",
       "541  Yavatmal- Washim          14  SANJAY UTTAMRAO DESHMUKH   \n",
       "542         Zahirabad           5      SURESH KUMAR SHETKAR   \n",
       "\n",
       "                                        Leading Party  \\\n",
       "0                              Bharatiya Janata Party   \n",
       "1                              Bharatiya Janata Party   \n",
       "2                            Indian National Congress   \n",
       "3                 Jammu & Kashmir National Conference   \n",
       "4                           Dravida Munnetra Kazhagam   \n",
       "..                                                ...   \n",
       "538  Nationalist Congress Party – Sharadchandra Pawar   \n",
       "539                          Indian National Congress   \n",
       "540                            Bharatiya Janata Party   \n",
       "541             Shiv Sena (Uddhav Balasaheb Thackrey)   \n",
       "542                          Indian National Congress   \n",
       "\n",
       "                    Trailing Candidate  \\\n",
       "0                 RAMCHANDRA CHOUDHARY   \n",
       "1                          LALIT YADAV   \n",
       "2                        BANTO KATARIA   \n",
       "3                       MEHBOOBA MUFTI   \n",
       "4                            L VIJAYAN   \n",
       "..                                 ...   \n",
       "538           RAMDAS CHANDRABHAN TADAS   \n",
       "539                         ANNIE RAJA   \n",
       "540                     MAHABAL MISHRA   \n",
       "541  RAJSHRITAI HEMANT PATIL (MAHALLE)   \n",
       "542                        B. B. PATIL   \n",
       "\n",
       "                               Trailing Party  Margin           Status  \n",
       "0                    Indian National Congress  329991  Result Declared  \n",
       "1                    Indian National Congress   48282  Result Declared  \n",
       "2                      Bharatiya Janata Party   49036  Result Declared  \n",
       "3    Jammu & Kashmir Peoples Democratic Party  281794  Result Declared  \n",
       "4    All India Anna Dravida Munnetra Kazhagam  306559  Result Declared  \n",
       "..                                        ...     ...              ...  \n",
       "538                    Bharatiya Janata Party   81648  Result Declared  \n",
       "539                  Communist Party of India  364422  Result Declared  \n",
       "540                           Aam Aadmi Party  199013  Result Declared  \n",
       "541                                 Shiv Sena   94473  Result Declared  \n",
       "542                    Bharatiya Janata Party   46188  Result Declared  \n",
       "\n",
       "[543 rows x 8 columns]"
      ]
     },
     "execution_count": 3,
     "metadata": {},
     "output_type": "execute_result"
    }
   ],
   "source": [
    "df"
   ]
  },
  {
   "cell_type": "code",
   "execution_count": 4,
   "id": "609eef92",
   "metadata": {},
   "outputs": [
    {
     "data": {
      "text/html": [
       "<div>\n",
       "<style scoped>\n",
       "    .dataframe tbody tr th:only-of-type {\n",
       "        vertical-align: middle;\n",
       "    }\n",
       "\n",
       "    .dataframe tbody tr th {\n",
       "        vertical-align: top;\n",
       "    }\n",
       "\n",
       "    .dataframe thead th {\n",
       "        text-align: right;\n",
       "    }\n",
       "</style>\n",
       "<table border=\"1\" class=\"dataframe\">\n",
       "  <thead>\n",
       "    <tr style=\"text-align: right;\">\n",
       "      <th></th>\n",
       "      <th>Constituency</th>\n",
       "      <th>Const. No.</th>\n",
       "      <th>Leading Candidate</th>\n",
       "      <th>Leading Party</th>\n",
       "      <th>Trailing Candidate</th>\n",
       "      <th>Trailing Party</th>\n",
       "      <th>Margin</th>\n",
       "      <th>Status</th>\n",
       "    </tr>\n",
       "  </thead>\n",
       "  <tbody>\n",
       "    <tr>\n",
       "      <th>0</th>\n",
       "      <td>AJMER</td>\n",
       "      <td>13</td>\n",
       "      <td>BHAGIRATH CHOUDHARY</td>\n",
       "      <td>Bharatiya Janata Party</td>\n",
       "      <td>RAMCHANDRA CHOUDHARY</td>\n",
       "      <td>Indian National Congress</td>\n",
       "      <td>329991</td>\n",
       "      <td>Result Declared</td>\n",
       "    </tr>\n",
       "    <tr>\n",
       "      <th>1</th>\n",
       "      <td>ALWAR</td>\n",
       "      <td>8</td>\n",
       "      <td>BHUPENDER YADAV</td>\n",
       "      <td>Bharatiya Janata Party</td>\n",
       "      <td>LALIT YADAV</td>\n",
       "      <td>Indian National Congress</td>\n",
       "      <td>48282</td>\n",
       "      <td>Result Declared</td>\n",
       "    </tr>\n",
       "    <tr>\n",
       "      <th>2</th>\n",
       "      <td>AMBALA</td>\n",
       "      <td>1</td>\n",
       "      <td>VARUN CHAUDHRY</td>\n",
       "      <td>Indian National Congress</td>\n",
       "      <td>BANTO KATARIA</td>\n",
       "      <td>Bharatiya Janata Party</td>\n",
       "      <td>49036</td>\n",
       "      <td>Result Declared</td>\n",
       "    </tr>\n",
       "    <tr>\n",
       "      <th>3</th>\n",
       "      <td>ANANTNAG-RAJOURI</td>\n",
       "      <td>3</td>\n",
       "      <td>MIAN ALTAF AHMAD</td>\n",
       "      <td>Jammu &amp; Kashmir National Conference</td>\n",
       "      <td>MEHBOOBA MUFTI</td>\n",
       "      <td>Jammu &amp; Kashmir Peoples Democratic Party</td>\n",
       "      <td>281794</td>\n",
       "      <td>Result Declared</td>\n",
       "    </tr>\n",
       "    <tr>\n",
       "      <th>4</th>\n",
       "      <td>ARAKKONAM</td>\n",
       "      <td>7</td>\n",
       "      <td>S JAGATHRATCHAKAN</td>\n",
       "      <td>Dravida Munnetra Kazhagam</td>\n",
       "      <td>L VIJAYAN</td>\n",
       "      <td>All India Anna Dravida Munnetra Kazhagam</td>\n",
       "      <td>306559</td>\n",
       "      <td>Result Declared</td>\n",
       "    </tr>\n",
       "  </tbody>\n",
       "</table>\n",
       "</div>"
      ],
      "text/plain": [
       "       Constituency  Const. No.    Leading Candidate  \\\n",
       "0             AJMER          13  BHAGIRATH CHOUDHARY   \n",
       "1             ALWAR           8      BHUPENDER YADAV   \n",
       "2            AMBALA           1       VARUN CHAUDHRY   \n",
       "3  ANANTNAG-RAJOURI           3     MIAN ALTAF AHMAD   \n",
       "4         ARAKKONAM           7    S JAGATHRATCHAKAN   \n",
       "\n",
       "                         Leading Party    Trailing Candidate  \\\n",
       "0               Bharatiya Janata Party  RAMCHANDRA CHOUDHARY   \n",
       "1               Bharatiya Janata Party           LALIT YADAV   \n",
       "2             Indian National Congress         BANTO KATARIA   \n",
       "3  Jammu & Kashmir National Conference        MEHBOOBA MUFTI   \n",
       "4            Dravida Munnetra Kazhagam             L VIJAYAN   \n",
       "\n",
       "                             Trailing Party  Margin           Status  \n",
       "0                  Indian National Congress  329991  Result Declared  \n",
       "1                  Indian National Congress   48282  Result Declared  \n",
       "2                    Bharatiya Janata Party   49036  Result Declared  \n",
       "3  Jammu & Kashmir Peoples Democratic Party  281794  Result Declared  \n",
       "4  All India Anna Dravida Munnetra Kazhagam  306559  Result Declared  "
      ]
     },
     "execution_count": 4,
     "metadata": {},
     "output_type": "execute_result"
    }
   ],
   "source": [
    "df.head()"
   ]
  },
  {
   "cell_type": "code",
   "execution_count": 5,
   "id": "d9184224",
   "metadata": {},
   "outputs": [
    {
     "name": "stdout",
     "output_type": "stream",
     "text": [
      "<class 'pandas.core.frame.DataFrame'>\n",
      "RangeIndex: 543 entries, 0 to 542\n",
      "Data columns (total 8 columns):\n",
      " #   Column              Non-Null Count  Dtype \n",
      "---  ------              --------------  ----- \n",
      " 0   Constituency        543 non-null    object\n",
      " 1   Const. No.          543 non-null    int64 \n",
      " 2   Leading Candidate   543 non-null    object\n",
      " 3   Leading Party       543 non-null    object\n",
      " 4   Trailing Candidate  542 non-null    object\n",
      " 5   Trailing Party      542 non-null    object\n",
      " 6   Margin              543 non-null    object\n",
      " 7   Status              543 non-null    object\n",
      "dtypes: int64(1), object(7)\n",
      "memory usage: 34.1+ KB\n"
     ]
    }
   ],
   "source": [
    "df.info()"
   ]
  },
  {
   "cell_type": "code",
   "execution_count": 8,
   "id": "4332cc18",
   "metadata": {},
   "outputs": [
    {
     "data": {
      "text/html": [
       "<div>\n",
       "<style scoped>\n",
       "    .dataframe tbody tr th:only-of-type {\n",
       "        vertical-align: middle;\n",
       "    }\n",
       "\n",
       "    .dataframe tbody tr th {\n",
       "        vertical-align: top;\n",
       "    }\n",
       "\n",
       "    .dataframe thead th {\n",
       "        text-align: right;\n",
       "    }\n",
       "</style>\n",
       "<table border=\"1\" class=\"dataframe\">\n",
       "  <thead>\n",
       "    <tr style=\"text-align: right;\">\n",
       "      <th></th>\n",
       "      <th>Const. No.</th>\n",
       "    </tr>\n",
       "  </thead>\n",
       "  <tbody>\n",
       "    <tr>\n",
       "      <th>count</th>\n",
       "      <td>543.000000</td>\n",
       "    </tr>\n",
       "    <tr>\n",
       "      <th>mean</th>\n",
       "      <td>18.178637</td>\n",
       "    </tr>\n",
       "    <tr>\n",
       "      <th>std</th>\n",
       "      <td>16.427840</td>\n",
       "    </tr>\n",
       "    <tr>\n",
       "      <th>min</th>\n",
       "      <td>1.000000</td>\n",
       "    </tr>\n",
       "    <tr>\n",
       "      <th>25%</th>\n",
       "      <td>6.000000</td>\n",
       "    </tr>\n",
       "    <tr>\n",
       "      <th>50%</th>\n",
       "      <td>14.000000</td>\n",
       "    </tr>\n",
       "    <tr>\n",
       "      <th>75%</th>\n",
       "      <td>25.000000</td>\n",
       "    </tr>\n",
       "    <tr>\n",
       "      <th>max</th>\n",
       "      <td>80.000000</td>\n",
       "    </tr>\n",
       "  </tbody>\n",
       "</table>\n",
       "</div>"
      ],
      "text/plain": [
       "       Const. No.\n",
       "count  543.000000\n",
       "mean    18.178637\n",
       "std     16.427840\n",
       "min      1.000000\n",
       "25%      6.000000\n",
       "50%     14.000000\n",
       "75%     25.000000\n",
       "max     80.000000"
      ]
     },
     "execution_count": 8,
     "metadata": {},
     "output_type": "execute_result"
    }
   ],
   "source": [
    "df.describe()"
   ]
  },
  {
   "cell_type": "code",
   "execution_count": null,
   "id": "003eaf91",
   "metadata": {},
   "outputs": [],
   "source": [
    "df['Leading Candidate', 'Leading Party']"
   ]
  },
  {
   "cell_type": "code",
   "execution_count": 10,
   "id": "158584b1",
   "metadata": {},
   "outputs": [
    {
     "data": {
      "text/plain": [
       "'99974'"
      ]
     },
     "execution_count": 10,
     "metadata": {},
     "output_type": "execute_result"
    }
   ],
   "source": [
    "max(df['Margin'])"
   ]
  },
  {
   "cell_type": "code",
   "execution_count": 22,
   "id": "0c99cd17",
   "metadata": {},
   "outputs": [],
   "source": [
    "## Find out all the vote for each Party."
   ]
  },
  {
   "cell_type": "code",
   "execution_count": 24,
   "id": "905f7837",
   "metadata": {},
   "outputs": [],
   "source": [
    "party_votes=df.groupby(['Leading Party'])['Margin'].sum()"
   ]
  },
  {
   "cell_type": "code",
   "execution_count": 25,
   "id": "22400854",
   "metadata": {},
   "outputs": [
    {
     "data": {
      "text/plain": [
       "Leading Party\n",
       "AJSU Party                                                                                              80880\n",
       "Aam Aadmi Party                                                                              1084644111172560\n",
       "Aazad Samaj Party (Kanshi Ram)                                                                         151473\n",
       "All India Majlis-E-Ittehadul Muslimeen                                                                 338087\n",
       "All India Trinamool Congress                                6399595648502232778114189160572137981644383335...\n",
       "Apna Dal (Soneylal)                                                                                     37810\n",
       "Asom Gana Parishad                                                                                     222351\n",
       "Bharat Adivasi Party                                                                                   247054\n",
       "Bharatiya Janata Party                                      3299914828290652271294461755286437443454062615...\n",
       "Communist Party of India                                                                         208957125928\n",
       "Communist Party of India (Marxist)                                                     2011144382120940972896\n",
       "Communist Party of India (Marxist-Leninist) (Liberation)                                          59808105858\n",
       "Dravida Munnetra Kazhagam                                   3065592087662446893392222259451180682130023656...\n",
       "Hindustani Awam Morcha (Secular)                                                                       101812\n",
       "Independent                                                             2041426225700531971202786223847100053\n",
       "Indian National Congress                                    4903663513587951671961973140301684118176519833...\n",
       "Indian Union Muslim League                                                                 300118235760166782\n",
       "Jammu & Kashmir National Conference                                                              281794188416\n",
       "Janasena Party                                                                                   229491223179\n",
       "Janata Dal (Secular)                                                                              71388284620\n",
       "Janata Dal (United)                                         1038441048681271801841691745348087016911429143...\n",
       "Jharkhand Mukti Morcha                                                                      22527178264168402\n",
       "Kerala Congress                                                                                         87266\n",
       "Lok Janshakti Party(Ram Vilas)                                                  17010511248216113118725189634\n",
       "Marumalarchi Dravida Munnetra Kazhagam                                                                 313094\n",
       "Nationalist Congress Party                                                                              82784\n",
       "Nationalist Congress Party – Sharadchandra Pawar                  2892915833365536612111319912083714095181648\n",
       "Rashtriya Janata Dal                                                                    791113009114259185174\n",
       "Rashtriya Lok Dal                                                                                 15945937508\n",
       "Rashtriya Loktantrik Party                                                                              42225\n",
       "Revolutionary Socialist Party                                                                          150302\n",
       "Samajwadi Party                                             1372471596916103534991433847121010099421565444...\n",
       "Shiromani Akali Dal                                                                                     49656\n",
       "Shiv Sena                                                                 13465029479134262091449661548217011\n",
       "Shiv Sena (Uddhav Balasaheb Thackrey)                       1086022986152673533841620013298461340615052994473\n",
       "Sikkim Krantikari Morcha                                                                                80830\n",
       "Telugu Desam                                                3421961885552080312204791818573446951324271112...\n",
       "United People’s Party, Liberal                                                                          51583\n",
       "Viduthalai Chiruthaigal Katch                                                                     10355470703\n",
       "Voice of the People Party                                                                              371910\n",
       "Yuvajana Sramika Rythu Congress Party                                                    50580626957607114569\n",
       "Zoram People’s Movement                                                                                 68288\n",
       "Name: Margin, dtype: object"
      ]
     },
     "execution_count": 25,
     "metadata": {},
     "output_type": "execute_result"
    }
   ],
   "source": [
    "party_votes"
   ]
  },
  {
   "cell_type": "code",
   "execution_count": 28,
   "id": "65f5be01",
   "metadata": {},
   "outputs": [],
   "source": [
    "df['Margin'] = pd.to_numeric(df['Margin'], errors='coerce')\n"
   ]
  },
  {
   "cell_type": "code",
   "execution_count": 30,
   "id": "ba2e6f84",
   "metadata": {},
   "outputs": [
    {
     "data": {
      "text/plain": [
       "0      329991.0\n",
       "1       48282.0\n",
       "2       49036.0\n",
       "3      281794.0\n",
       "4      306559.0\n",
       "         ...   \n",
       "538     81648.0\n",
       "539    364422.0\n",
       "540    199013.0\n",
       "541     94473.0\n",
       "542     46188.0\n",
       "Name: Margin, Length: 543, dtype: float64"
      ]
     },
     "execution_count": 30,
     "metadata": {},
     "output_type": "execute_result"
    }
   ],
   "source": [
    "df['Margin']"
   ]
  },
  {
   "cell_type": "code",
   "execution_count": 31,
   "id": "f27a1cb3",
   "metadata": {},
   "outputs": [],
   "source": [
    "# Party with highest and lowest margin of victory\n",
    "highest_margin = df.loc[df['Margin'].idxmax()]\n",
    "lowest_margin = df.loc[df['Margin'].idxmin()]"
   ]
  },
  {
   "cell_type": "code",
   "execution_count": 32,
   "id": "819c7e13",
   "metadata": {},
   "outputs": [
    {
     "data": {
      "text/plain": [
       "Constituency                               INDORE\n",
       "Const. No.                                     26\n",
       "Leading Candidate                 SHANKAR LALWANI\n",
       "Leading Party              Bharatiya Janata Party\n",
       "Trailing Candidate    SANJAY S/O LAKSHMAN SOLANKI\n",
       "Trailing Party                Bahujan Samaj Party\n",
       "Margin                                  1175092.0\n",
       "Status                            Result Declared\n",
       "Name: 221, dtype: object"
      ]
     },
     "execution_count": 32,
     "metadata": {},
     "output_type": "execute_result"
    }
   ],
   "source": [
    "highest_margin"
   ]
  },
  {
   "cell_type": "code",
   "execution_count": 33,
   "id": "07185d1e",
   "metadata": {},
   "outputs": [
    {
     "data": {
      "text/plain": [
       "Constituency                              Mumbai North West\n",
       "Const. No.                                               27\n",
       "Leading Candidate                  RAVINDRA DATTARAM WAIKAR\n",
       "Leading Party                                     Shiv Sena\n",
       "Trailing Candidate                    AMOL GAJANAN KIRTIKAR\n",
       "Trailing Party        Shiv Sena (Uddhav Balasaheb Thackrey)\n",
       "Margin                                                 48.0\n",
       "Status                                      Result Declared\n",
       "Name: 357, dtype: object"
      ]
     },
     "execution_count": 33,
     "metadata": {},
     "output_type": "execute_result"
    }
   ],
   "source": [
    "\n",
    "\n",
    "lowest_margin\n",
    "\n",
    "\n",
    "\n"
   ]
  },
  {
   "cell_type": "code",
   "execution_count": 34,
   "id": "325b6161",
   "metadata": {},
   "outputs": [],
   "source": [
    "seats_won=df['Leading Party'].value_counts()"
   ]
  },
  {
   "cell_type": "code",
   "execution_count": 35,
   "id": "190cb06e",
   "metadata": {},
   "outputs": [
    {
     "data": {
      "text/plain": [
       "Bharatiya Janata Party                                      240\n",
       "Indian National Congress                                     99\n",
       "Samajwadi Party                                              37\n",
       "All India Trinamool Congress                                 29\n",
       "Dravida Munnetra Kazhagam                                    22\n",
       "Telugu Desam                                                 16\n",
       "Janata Dal (United)                                          12\n",
       "Shiv Sena (Uddhav Balasaheb Thackrey)                         9\n",
       "Nationalist Congress Party – Sharadchandra Pawar              8\n",
       "Shiv Sena                                                     7\n",
       "Independent                                                   7\n",
       "Lok Janshakti Party(Ram Vilas)                                5\n",
       "Communist Party of India (Marxist)                            4\n",
       "Yuvajana Sramika Rythu Congress Party                         4\n",
       "Rashtriya Janata Dal                                          4\n",
       "Indian Union Muslim League                                    3\n",
       "Jharkhand Mukti Morcha                                        3\n",
       "Aam Aadmi Party                                               3\n",
       "Rashtriya Lok Dal                                             2\n",
       "Communist Party of India (Marxist-Leninist) (Liberation)      2\n",
       "Communist Party of India                                      2\n",
       "Jammu & Kashmir National Conference                           2\n",
       "Janasena Party                                                2\n",
       "Janata Dal (Secular)                                          2\n",
       "Viduthalai Chiruthaigal Katch                                 2\n",
       "Hindustani Awam Morcha (Secular)                              1\n",
       "Sikkim Krantikari Morcha                                      1\n",
       "Voice of the People Party                                     1\n",
       "Nationalist Congress Party                                    1\n",
       "Aazad Samaj Party (Kanshi Ram)                                1\n",
       "Rashtriya Loktantrik Party                                    1\n",
       "Shiromani Akali Dal                                           1\n",
       "Apna Dal (Soneylal)                                           1\n",
       "AJSU Party                                                    1\n",
       "Zoram People’s Movement                                       1\n",
       "Kerala Congress                                               1\n",
       "Revolutionary Socialist Party                                 1\n",
       "Asom Gana Parishad                                            1\n",
       "United People’s Party, Liberal                                1\n",
       "Bharat Adivasi Party                                          1\n",
       "All India Majlis-E-Ittehadul Muslimeen                        1\n",
       "Marumalarchi Dravida Munnetra Kazhagam                        1\n",
       "Name: Leading Party, dtype: int64"
      ]
     },
     "execution_count": 35,
     "metadata": {},
     "output_type": "execute_result"
    }
   ],
   "source": [
    "seats_won"
   ]
  },
  {
   "cell_type": "code",
   "execution_count": 39,
   "id": "bcee9f13",
   "metadata": {},
   "outputs": [
    {
     "data": {
      "image/png": "[encoded data removed]",
      "text/plain": [
       "<Figure size 1440x576 with 1 Axes>"
      ]
     },
     "metadata": {
      "needs_background": "light"
     },
     "output_type": "display_data"
    }
   ],
   "source": [
    "# Plot number of seats won by each party\n",
    "plt.figure(figsize=(20, 8))\n",
    "sns.barplot(x=seats_won.index, y=seats_won.values, palette='viridis')\n",
    "plt.title('Number of Seats Won by Each Party')\n",
    "plt.xlabel('Party')\n",
    "plt.ylabel('Seats Won')\n",
    "plt.xticks(rotation=90)\n",
    "plt.show()"
   ]
  },
  {
   "cell_type": "code",
   "execution_count": null,
   "id": "966e090c",
   "metadata": {},
   "outputs": [],
   "source": [
    "#Find the leading candidate from Deoria city"
   ]
  },
  {
   "cell_type": "code",
   "execution_count": 47,
   "id": "ae9d9225",
   "metadata": {},
   "outputs": [],
   "source": [
    "leading_cand=df[df['Constituency']=='Deoria']"
   ]
  },
  {
   "cell_type": "code",
   "execution_count": 49,
   "id": "c694aa2b",
   "metadata": {},
   "outputs": [
    {
     "data": {
      "text/plain": [
       "152    SHASHANK MANI\n",
       "Name: Leading Candidate, dtype: object"
      ]
     },
     "execution_count": 49,
     "metadata": {},
     "output_type": "execute_result"
    }
   ],
   "source": [
    "leading_cand['Leading Candidate']"
   ]
  },
  {
   "cell_type": "code",
   "execution_count": 51,
   "id": "0927d7df",
   "metadata": {},
   "outputs": [
    {
     "data": {
      "text/html": [
       "<div>\n",
       "<style scoped>\n",
       "    .dataframe tbody tr th:only-of-type {\n",
       "        vertical-align: middle;\n",
       "    }\n",
       "\n",
       "    .dataframe tbody tr th {\n",
       "        vertical-align: top;\n",
       "    }\n",
       "\n",
       "    .dataframe thead th {\n",
       "        text-align: right;\n",
       "    }\n",
       "</style>\n",
       "<table border=\"1\" class=\"dataframe\">\n",
       "  <thead>\n",
       "    <tr style=\"text-align: right;\">\n",
       "      <th></th>\n",
       "      <th>Constituency</th>\n",
       "      <th>Const. No.</th>\n",
       "      <th>Leading Candidate</th>\n",
       "      <th>Leading Party</th>\n",
       "      <th>Trailing Candidate</th>\n",
       "      <th>Trailing Party</th>\n",
       "      <th>Margin</th>\n",
       "      <th>Status</th>\n",
       "    </tr>\n",
       "  </thead>\n",
       "  <tbody>\n",
       "    <tr>\n",
       "      <th>152</th>\n",
       "      <td>Deoria</td>\n",
       "      <td>66</td>\n",
       "      <td>SHASHANK MANI</td>\n",
       "      <td>Bharatiya Janata Party</td>\n",
       "      <td>AKHILESH PRATAP SINGH</td>\n",
       "      <td>Indian National Congress</td>\n",
       "      <td>34842.0</td>\n",
       "      <td>Result Declared</td>\n",
       "    </tr>\n",
       "  </tbody>\n",
       "</table>\n",
       "</div>"
      ],
      "text/plain": [
       "    Constituency  Const. No. Leading Candidate           Leading Party  \\\n",
       "152       Deoria          66     SHASHANK MANI  Bharatiya Janata Party   \n",
       "\n",
       "        Trailing Candidate            Trailing Party   Margin           Status  \n",
       "152  AKHILESH PRATAP SINGH  Indian National Congress  34842.0  Result Declared  "
      ]
     },
     "execution_count": 51,
     "metadata": {},
     "output_type": "execute_result"
    }
   ],
   "source": [
    "leading_cand"
   ]
  },
  {
   "cell_type": "code",
   "execution_count": 53,
   "id": "9130f4fe",
   "metadata": {},
   "outputs": [],
   "source": [
    "modi_entry=df[df['Leading Candidate']=='NARENDRA MODI']"
   ]
  },
  {
   "cell_type": "code",
   "execution_count": 54,
   "id": "7b143905",
   "metadata": {},
   "outputs": [
    {
     "data": {
      "text/html": [
       "<div>\n",
       "<style scoped>\n",
       "    .dataframe tbody tr th:only-of-type {\n",
       "        vertical-align: middle;\n",
       "    }\n",
       "\n",
       "    .dataframe tbody tr th {\n",
       "        vertical-align: top;\n",
       "    }\n",
       "\n",
       "    .dataframe thead th {\n",
       "        text-align: right;\n",
       "    }\n",
       "</style>\n",
       "<table border=\"1\" class=\"dataframe\">\n",
       "  <thead>\n",
       "    <tr style=\"text-align: right;\">\n",
       "      <th></th>\n",
       "      <th>Constituency</th>\n",
       "      <th>Const. No.</th>\n",
       "      <th>Leading Candidate</th>\n",
       "      <th>Leading Party</th>\n",
       "      <th>Trailing Candidate</th>\n",
       "      <th>Trailing Party</th>\n",
       "      <th>Margin</th>\n",
       "      <th>Status</th>\n",
       "    </tr>\n",
       "  </thead>\n",
       "  <tbody>\n",
       "    <tr>\n",
       "      <th>533</th>\n",
       "      <td>Varanasi</td>\n",
       "      <td>77</td>\n",
       "      <td>NARENDRA MODI</td>\n",
       "      <td>Bharatiya Janata Party</td>\n",
       "      <td>AJAY RAI</td>\n",
       "      <td>Indian National Congress</td>\n",
       "      <td>152513.0</td>\n",
       "      <td>Result Declared</td>\n",
       "    </tr>\n",
       "  </tbody>\n",
       "</table>\n",
       "</div>"
      ],
      "text/plain": [
       "    Constituency  Const. No. Leading Candidate           Leading Party  \\\n",
       "533     Varanasi          77     NARENDRA MODI  Bharatiya Janata Party   \n",
       "\n",
       "    Trailing Candidate            Trailing Party    Margin           Status  \n",
       "533           AJAY RAI  Indian National Congress  152513.0  Result Declared  "
      ]
     },
     "execution_count": 54,
     "metadata": {},
     "output_type": "execute_result"
    }
   ],
   "source": [
    "    modi_entry"
   ]
  },
  {
   "cell_type": "code",
   "execution_count": 58,
   "id": "e5d17593",
   "metadata": {},
   "outputs": [
    {
     "data": {
      "text/plain": [
       "533    152513.0\n",
       "Name: Margin, dtype: float64"
      ]
     },
     "execution_count": 58,
     "metadata": {},
     "output_type": "execute_result"
    }
   ],
   "source": [
    "modi_entry['Margin']"
   ]
  },
  {
   "cell_type": "code",
   "execution_count": null,
   "id": "47788ea3",
   "metadata": {},
   "outputs": [],
   "source": []
  }
 ],
 "metadata": {
  "kernelspec": {
   "display_name": "Python 3 (ipykernel)",
   "language": "python",
   "name": "python3"
  },
  "language_info": {
   "codemirror_mode": {
    "name": "ipython",
    "version": 3
   },
   "file_extension": ".py",
   "mimetype": "text/x-python",
   "name": "python",
   "nbconvert_exporter": "python",
   "pygments_lexer": "ipython3",
   "version": "3.9.12"
  }
 },
 "nbformat": 4,
 "nbformat_minor": 5
}
